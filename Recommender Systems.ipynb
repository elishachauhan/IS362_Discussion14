{
 "cells": [
  {
   "cell_type": "markdown",
   "metadata": {},
   "source": [
    "# Recommender Systems\n",
    "\n",
    "## Amazon & Recommendations"
   ]
  },
  {
   "cell_type": "markdown",
   "metadata": {},
   "source": [
    "### Task:\n",
    "\n",
    "1. Perform a Scenario Design analysis as described below.  Consider whether it makes sense for your selected recommender system to perform scenario design twice, once for the organization (e.g. Amazon.com) and once for the organization's customers.\n",
    "2. Attempt to reverse engineer what you can about the site, from the site interface and any available information that you can find on the Internet or elsewhere.\n",
    "3. Include specific recommendations about how to improve the site's recommendation capabilities going forward. \n",
    "4. Create your report using a Jupyter notebook, and create a discussion thread with a link to the GitHub repo where your Jupyter Notebook resides.  You are not expected to need to write code for this discussion assignment."
   ]
  },
  {
   "cell_type": "markdown",
   "metadata": {},
   "source": [
    "##### Scenario Design Analysis:"
   ]
  },
  {
   "cell_type": "markdown",
   "metadata": {},
   "source": [
    "1) Who are your target users?\n",
    "\n",
    "Target users are the customers, or people that browse Amazon's website that click on various products and may or may not purchase these items. \n",
    "\n",
    "2) What are their key goals?\n",
    "\n",
    "Key goals for customers include purchasing items that pique their interest, browsing items that could be purchased after a previous purchase, and buying items that are purchased together. These key goals are driven using the incentive that Amazon provides items at a lower cost than most online retailers. \n",
    "\n",
    "3) How can you accomplish those goals?\n",
    "\n",
    "Amazon assists customers in accomplishing these goals by implementing a recommender algorithm that combines a user's purchased and rated items and provides a user with a recommendation list. Specifcally, item-to-item collaborative filtering utilizes a similar items table in an iterative algorithm that finds products similar to purchased and rated items, aggregates these items, and gives a list of correlated or popular items. Depending on the amount of items that were purchased or rated by a user, this algorithm can compute and provide this list to users quickly."
   ]
  },
  {
   "cell_type": "markdown",
   "metadata": {},
   "source": [
    "##### Should the selected recommender system perform scenario design twice?: "
   ]
  },
  {
   "cell_type": "markdown",
   "metadata": {},
   "source": [
    "In this case, utilizing scenario design in framing how users needs are met should be an organization's main priority. Recommending items that are similar to purchased or rated items are pertinent in bolstering a user's interest in using Amazon and in turn, customer retention increases. However, a company, such as Amazon, should consider how its own needs are met using Scenario Design for specific goals and objectives. "
   ]
  },
  {
   "cell_type": "markdown",
   "metadata": {},
   "source": [
    "##### Reverse Engineer:"
   ]
  },
  {
   "cell_type": "markdown",
   "metadata": {},
   "source": [
    "According to the paper, recommendations are lists similar items to purchased or rated items. After logging into Amazon, several sections pop up such as \"New for you\", \"More top picks for you\", \"Recommendations for you in Books\", \"Recommendations for you in Video Games\", \"Inspired by your shopping trends\", and \"Recommendations for you in Cell Phones & Accessories\". The first two sections utilizes item-to-item collaborative filtering because I purchased items related to the recommended in the selection. However, Amazon may also have implemented a search-based method that gives recommendations based on items that was purchased on a previous occassion. Specifically, the \"New for you\" section gave items from an organization associated with an author of as book. Similarly, \"Inspired by your shopping trends\" may have given recommendations based on this algorithm as well. On the other hand, the \"Recommendations for you\" sections uses item-to-item collaborative filtering that aggregated a multitude of items that are similar to purchased items. Amazon uses this algorithm because it can process a large data set quickly, give highly correlated similar items, and has scabality and performance. "
   ]
  },
  {
   "cell_type": "markdown",
   "metadata": {},
   "source": [
    "##### Specific Recommendations:"
   ]
  },
  {
   "cell_type": "markdown",
   "metadata": {},
   "source": [
    "Although Amazon utilizes an algorithm that can provide high quality recommendations, Amazon's recommendations capabilities could be improved going forward. Since the usage of social media has grown, Amazon should take into accoun that social media sites implement using Amazon's advertising system. If someone clicks on these ads that displays products that you previously viewed, then an algorithm should use a table that contains items that were viewed from advertising. In turn, this algorithm can also work in conjunction with item-to-item collaborative filtering if a user purchases an item from an ad. Although algorithm will have similar functionality as item-to-item collaborative filtering, it is important to modify how it gives recommendations. Instead of similar items, the recommendations will be the exact items that a user saw in an ad and clicked on. Instead of being based on purchased and rated items, the algorithm will based on clicked items. "
   ]
  }
 ],
 "metadata": {
  "kernelspec": {
   "display_name": "Python 3",
   "language": "python",
   "name": "python3"
  },
  "language_info": {
   "codemirror_mode": {
    "name": "ipython",
    "version": 3
   },
   "file_extension": ".py",
   "mimetype": "text/x-python",
   "name": "python",
   "nbconvert_exporter": "python",
   "pygments_lexer": "ipython3",
   "version": "3.6.0"
  }
 },
 "nbformat": 4,
 "nbformat_minor": 2
}
